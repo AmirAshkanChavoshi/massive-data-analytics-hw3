{
 "cells": [
  {
   "cell_type": "code",
   "execution_count": 1,
   "metadata": {},
   "outputs": [
    {
     "name": "stderr",
     "output_type": "stream",
     "text": [
      "24/01/12 23:29:38 WARN Utils: Your hostname, aac resolves to a loopback address: 127.0.1.1; using 172.27.171.43 instead (on interface wlp2s0)\n",
      "24/01/12 23:29:38 WARN Utils: Set SPARK_LOCAL_IP if you need to bind to another address\n",
      "Setting default log level to \"WARN\".\n",
      "To adjust logging level use sc.setLogLevel(newLevel). For SparkR, use setLogLevel(newLevel).\n",
      "24/01/12 23:29:41 WARN NativeCodeLoader: Unable to load native-hadoop library for your platform... using builtin-java classes where applicable\n"
     ]
    }
   ],
   "source": [
    "import pyspark\n",
    "from pyspark.sql import SparkSession\n",
    "from pyspark import SparkContext\n",
    "\n",
    "spark = (\n",
    "    SparkSession.builder.appName(\"HW3\")\n",
    "    .master(\"local[*]\")\n",
    "    .config(\"spark.driver.maxResultSize\", 0)\n",
    "    .getOrCreate()\n",
    ")\n",
    "\n",
    "sc: SparkContext = spark.sparkContext"
   ]
  },
  {
   "cell_type": "code",
   "execution_count": 4,
   "metadata": {},
   "outputs": [],
   "source": [
    "import json\n",
    "tweet_rdd = sc.textFile(\"twitter_data.jsonl\")\n",
    "json_rdd = tweet_rdd.map(lambda x: json.loads(x))"
   ]
  },
  {
   "cell_type": "code",
   "execution_count": 5,
   "metadata": {},
   "outputs": [],
   "source": [
    "def create_row_of_user_tweet_matrix(x):\n",
    "    related_tweet_ids = []\n",
    "    user_id = x[\"user\"][\"id\"]\n",
    "    # Set the score of each tweet to one\n",
    "    if x[\"tweet_type\"] == \"generated\":\n",
    "        if \"id\" in x:\n",
    "            related_tweet_ids.append((x[\"id\"], 1))\n",
    "    if x[\"tweet_type\"] == \"replied\":\n",
    "        if \"in_reply_to_status_id_str\" in x:\n",
    "            related_tweet_ids.append((x[\"in_reply_to_status_id_str\"], 1))\n",
    "    if x[\"tweet_type\"] == \"quoted\":\n",
    "        if \"id\" in x:\n",
    "            related_tweet_ids.append((x[\"id\"], 1))\n",
    "        if \"quoted_status\" in x:\n",
    "            if \"id\" in x[\"quoted_status\"]:\n",
    "                related_tweet_ids.append((x[\"quoted_status\"][\"id\"], 1))\n",
    "    if x[\"tweet_type\"] == \"retweeted\":\n",
    "        if \"id\" in x:\n",
    "            related_tweet_ids.append((x[\"id\"], 1))\n",
    "        if \"retweeted_status\" in x:\n",
    "            if \"id\" in x[\"retweeted_status\"]:\n",
    "                related_tweet_ids.append((x[\"retweeted_status\"][\"id\"], 1))\n",
    "    return (user_id, (related_tweet_ids))\n",
    "\n",
    "# Create the user-tweet matrix. Rows represent users, and columns represent tweets.\n",
    "user_tweet_matrix_rdd = (\n",
    "    json_rdd.map(create_row_of_user_tweet_matrix)\n",
    "    .reduceByKey(lambda x, y: x + y)\n",
    "    .map(lambda x: (x[0], list(x[1])))\n",
    ")"
   ]
  },
  {
   "cell_type": "code",
   "execution_count": 6,
   "metadata": {},
   "outputs": [
    {
     "name": "stderr",
     "output_type": "stream",
     "text": [
      "                                                                                \r"
     ]
    }
   ],
   "source": [
    "from collections import defaultdict\n",
    "\n",
    "def update_scores_user_tweet_matrix(x):\n",
    "    sums_dict = defaultdict(int)\n",
    "    for unique_id, number in x[1]:\n",
    "        sums_dict[unique_id] += number\n",
    "\n",
    "    result_list = list(sums_dict.items())\n",
    "    return (x[0], result_list)\n",
    "\n",
    "# Update the user-tweet matrix so that each row, representing a user, contains scores related to their tweets. \n",
    "# Tweets with zero scores are not stored in this matrix.\n",
    "\n",
    "updated_scores_user_tweet_matrix_rdd = user_tweet_matrix_rdd.map(\n",
    "    update_scores_user_tweet_matrix\n",
    ").sortBy(lambda x: len(x[1]), ascending=False)\n",
    "updated_scores_user_tweet_matrix_list = updated_scores_user_tweet_matrix_rdd.collect()"
   ]
  },
  {
   "cell_type": "code",
   "execution_count": null,
   "metadata": {},
   "outputs": [],
   "source": [
    "import random\n",
    "\n",
    "# This parameter indicates the number of samples utilized for testing the model.\n",
    "number_of_samples = 100\n",
    "test_users_matrix = updated_scores_user_tweet_matrix_rdd.filter(lambda x: len(x[1])>1).takeSample(\n",
    "    False, number_of_samples\n",
    ")\n",
    "test_users_ids = [item[0] for item in test_users_matrix]\n",
    "\n",
    "\n",
    "# Apply a filter to the matrix for rows that are present in the test_users matrix.\n",
    "def filter_test_users(x):\n",
    "    updated_tweets = []  # This variable represents updated tweets whose scores have been set to 0.\n",
    "    new_tweets_scores = []\n",
    "    if x[0] in test_users_ids:\n",
    "        number_of_random_samples = len(x[1]) // 2 # Select half of the tweets from the test users to estimate their scores \n",
    "        # based on the results from the recommender system.\n",
    "        if number_of_random_samples > 0:\n",
    "            sampled_tweet_from_one_user = random.sample(x[1], number_of_random_samples)\n",
    "            for tweet_id, score in sampled_tweet_from_one_user:\n",
    "                updated_tweets.append((tweet_id, 0))\n",
    "            new_tweets_scores = [\n",
    "                item for item in x[1] if item[0] not in test_users_ids\n",
    "            ] + updated_tweets\n",
    "            return (x[0], new_tweets_scores), (x[0], new_tweets_scores)\n",
    "        else:\n",
    "            return x, None\n",
    "    else:\n",
    "        return x, None\n",
    "\n",
    "\n",
    "# Create a matrix that includes users not present in the test data, along with \n",
    "# users from the test data for whom the user-tweet matrix has been updated.\n",
    "user_tweet_matrix_updated_for_test_users_rdd = updated_scores_user_tweet_matrix_rdd.map(\n",
    "    lambda x: filter_test_users(x)[0]\n",
    ")\n",
    "\n",
    "# Create an RDD in which each element contains a tuple. The first element of the tuple\n",
    "# is related to the user ID of a test user, and the second element contains a list of \n",
    "# tweet IDs whose scores have been changed to zero.\n",
    "user_tweet_matrix_for_test_users = updated_scores_user_tweet_matrix_rdd.map(\n",
    "    lambda x: filter_test_users(x)[1]\n",
    ").filter(lambda x: True if x is not None else False).collect()"
   ]
  },
  {
   "cell_type": "markdown",
   "metadata": {},
   "source": [
    "# Discover Similar Users and Tweets for a Single User\n",
    "The `main_user_id` variable represents the user ID for whom we intend to find similar users and tweets."
   ]
  },
  {
   "cell_type": "code",
   "execution_count": null,
   "metadata": {},
   "outputs": [],
   "source": [
    "main_user_id = \"931938860963061760\"\n",
    "# Retrieve the tweets associated with the user with the ID 'main_user_id'\n",
    "main_user_tweet_list = []\n",
    "updated_scores_user_tweet_matrix_list = updated_scores_user_tweet_matrix_rdd.collect()\n",
    "for item in updated_scores_user_tweet_matrix_list:\n",
    "    if item[0] == main_user_id:\n",
    "        main_user_tweet_list = main_user_tweet_list + item[1]\n",
    "        break\n",
    "# Determine the size of the vector associated with the 'main_user_id' in the user-tweet matrix.\n",
    "abs_main_user_tweet_list = 0\n",
    "for tweet_id, score in main_user_tweet_list:\n",
    "    abs_main_user_tweet_list = abs_main_user_tweet_list + (int(score)) ** 2\n"
   ]
  },
  {
   "cell_type": "code",
   "execution_count": 19,
   "metadata": {},
   "outputs": [],
   "source": [
    "import math\n",
    "\n",
    "def calculate_cosine_similarity(x, main_user_tweet_list, abs_main_user_tweet_list):\n",
    "    all_tweet_list = main_user_tweet_list + x[1]\n",
    "\n",
    "    mult_dict = defaultdict(lambda: 1)\n",
    "    count_dict = defaultdict(int)\n",
    "    abs_another_user_tweet_list = 0\n",
    "\n",
    "    for unique_id, number in all_tweet_list:\n",
    "        mult_dict[unique_id] *= number\n",
    "        count_dict[unique_id] += 1\n",
    "\n",
    "    for unique_id, count in count_dict.items():\n",
    "        if count == 1:\n",
    "            mult_dict[unique_id] = 0\n",
    "\n",
    "    for tweet_id, score in x[1]:\n",
    "        abs_another_user_tweet_list = abs_another_user_tweet_list + (int(score)) ** 2\n",
    "\n",
    "    vector_product = sum(mult_dict.values(), 0)\n",
    "    cosine_similarity = vector_product / (\n",
    "        math.sqrt(abs_another_user_tweet_list * abs_main_user_tweet_list)\n",
    "    )\n",
    "    return ((x[0], cosine_similarity), x[1])\n",
    "\n",
    "\n",
    "def filter_similarity_result(x, lower_threshold, upper_threshold):\n",
    "    if x[0][1] > lower_threshold and x[0][1] < upper_threshold:\n",
    "        return True\n",
    "    else:\n",
    "        return False\n",
    "\n",
    "# Compute the cosine similarity between the user with the ID 'main_user_id' and \n",
    "# all other users present in the tweet-user matrix.\n",
    "# lower_threshold = 0.03 # Select the lower threshold for cosine similarity.\n",
    "# upper_threshold = 1 # Choose the upper threshold for cosine similarity.\n",
    "# cosine_similarity_calculation = (\n",
    "#     updated_scores_user_tweet_matrix_rdd.map(lambda x: calculate_cosine_similarity(x, main_user_tweet_list, abs_main_user_tweet_list))\n",
    "#     .sortBy(lambda x: x[0][1], ascending=False)\n",
    "#     .filter(lambda x: filter_similarity_result(x, lower_threshold, upper_threshold))\n",
    "# )\n",
    "\n",
    "# Create an RDD in which each element contains a tuple. The first element of the tuple\n",
    "# is itself another tuple with the structure: (user_id, cosine_similarity). The second\n",
    "# element of the main tuple contains a list of tweets related to the user_id\n",
    "# similar_users_and_their_tweets = cosine_similarity_calculation.collect()"
   ]
  },
  {
   "cell_type": "markdown",
   "metadata": {},
   "source": [
    "# Evaluating the Model: Estimating Zeroed Scores from Similar Users"
   ]
  },
  {
   "cell_type": "code",
   "execution_count": 26,
   "metadata": {},
   "outputs": [
    {
     "name": "stderr",
     "output_type": "stream",
     "text": [
      "                                                                                \r"
     ]
    },
    {
     "name": "stdout",
     "output_type": "stream",
     "text": [
      "Real value of the tweet id 1727002206598307897 is 1\n",
      "Estimated scores for zeroed tweets with the id 1727002206598307897 is:0.6550157400843163\n",
      "Real value of the tweet id 1721596771799904516 is 1\n",
      "Estimated scores for zeroed tweets with the id 1721596771799904516 is:1.024833377861876\n",
      "Real value of the tweet id 1721173157464130024 is 1\n",
      "Estimated scores for zeroed tweets with the id 1721173157464130024 is:0.6550157400843163\n",
      "Real value of the tweet id 1723624846855110927 is 1\n",
      "Estimated scores for zeroed tweets with the id 1723624846855110927 is:0.6550157400843163\n",
      "Real value of the tweet id 1726975646742773931 is 1\n",
      "Estimated scores for zeroed tweets with the id 1726975646742773931 is:0.6550157400843163\n",
      "Real value of the tweet id 1727007505564438982 is 1\n",
      "Estimated scores for zeroed tweets with the id 1727007505564438982 is:0.6550157400843163\n",
      "Real value of the tweet id 1729191204229956029 is 1\n",
      "Estimated scores for zeroed tweets with the id 1729191204229956029 is:0.6550157400843163\n",
      "Real value of the tweet id 1724142517153562632 is 1\n",
      "Estimated scores for zeroed tweets with the id 1724142517153562632 is:0.6550157400843163\n",
      "Real value of the tweet id 1721594835193237935 is 1\n",
      "Estimated scores for zeroed tweets with the id 1721594835193237935 is:0.6550157400843163\n",
      "Real value of the tweet id 1726541044660228429 is 1\n",
      "Estimated scores for zeroed tweets with the id 1726541044660228429 is:0.6966933935768116\n",
      "Real value of the tweet id 1726013987572036027 is 1\n",
      "Estimated scores for zeroed tweets with the id 1726013987572036027 is:0.6550157400843163\n",
      "Real value of the tweet id 1727074725095227530 is 1\n",
      "Estimated scores for zeroed tweets with the id 1727074725095227530 is:0.6550157400843163\n",
      "Real value of the tweet id 1726988874256470439 is 1\n",
      "Estimated scores for zeroed tweets with the id 1726988874256470439 is:0.6966933935768116\n",
      "rmse is 0.1877496893064214\n",
      "###########################################################\n"
     ]
    },
    {
     "name": "stderr",
     "output_type": "stream",
     "text": [
      "[Stage 118:===================================================>   (16 + 1) / 17]\r"
     ]
    },
    {
     "name": "stdout",
     "output_type": "stream",
     "text": [
      "Real value of the tweet id 1725210966445474003 is 1\n",
      "Estimated scores for zeroed tweets with the id 1725210966445474003 is:0.779668076235837\n",
      "Real value of the tweet id 1725872469871898734 is 1\n",
      "Estimated scores for zeroed tweets with the id 1725872469871898734 is:0.779668076235837\n",
      "Real value of the tweet id 1724134393189392624 is 1\n",
      "Estimated scores for zeroed tweets with the id 1724134393189392624 is:0.779668076235837\n",
      "Real value of the tweet id 1724514641169068139 is 1\n",
      "Estimated scores for zeroed tweets with the id 1724514641169068139 is:0.779668076235837\n",
      "Real value of the tweet id 1724879815348560089 is 1\n",
      "Estimated scores for zeroed tweets with the id 1724879815348560089 is:0.779668076235837\n",
      "Real value of the tweet id 1726679750733898102 is 1\n",
      "Estimated scores for zeroed tweets with the id 1726679750733898102 is:0.779668076235837\n",
      "Real value of the tweet id 1726274555407389087 is 1\n",
      "Estimated scores for zeroed tweets with the id 1726274555407389087 is:0.779668076235837\n",
      "Real value of the tweet id 1725203608684159026 is 1\n",
      "Estimated scores for zeroed tweets with the id 1725203608684159026 is:0.779668076235837\n",
      "Real value of the tweet id 1725505391499379027 is 1\n",
      "Estimated scores for zeroed tweets with the id 1725505391499379027 is:0.779668076235837\n",
      "Real value of the tweet id 1725211304300839393 is 1\n",
      "Estimated scores for zeroed tweets with the id 1725211304300839393 is:0.779668076235837\n",
      "Real value of the tweet id 1724894458507051258 is 1\n",
      "Estimated scores for zeroed tweets with the id 1724894458507051258 is:0.779668076235837\n",
      "rmse is 0.12532401804050666\n",
      "###########################################################\n"
     ]
    },
    {
     "name": "stderr",
     "output_type": "stream",
     "text": [
      "                                                                                \r"
     ]
    }
   ],
   "source": [
    "for main_user in user_tweet_matrix_for_test_users[0:2]: # Iterate through the test users.\n",
    "    abs_main_user_tweet_list = 0\n",
    "\n",
    "    lower_threshold = 0.03 # Select the lower threshold for cosine similarity.\n",
    "    upper_threshold = 1 # Choose the upper threshold for cosine similarity.\n",
    "    for tweet_id, score in main_user[1]:\n",
    "        abs_main_user_tweet_list = abs_main_user_tweet_list + (int(score)) ** 2 # Calculate the size of the vector for\n",
    "        # each iterated test user.\n",
    "    cosine_similarity_calculation = (\n",
    "        updated_scores_user_tweet_matrix_rdd.map(lambda x: calculate_cosine_similarity(x, main_user[1], abs_main_user_tweet_list))\n",
    "        .sortBy(lambda x: x[0][1], ascending=False)\n",
    "        .filter(lambda x: filter_similarity_result(x, lower_threshold, upper_threshold))\n",
    "    ) # Calculate cosine similarity between the iterated test user and all other users.\n",
    "\n",
    "    similar_users_and_their_tweets_list = cosine_similarity_calculation.collect()\n",
    "\n",
    "    estimated_tweet_ids_dict = defaultdict(int)\n",
    "    estimated_tweet_ids_weights_dict = defaultdict(int)\n",
    "    main_user_tweets_dict = {key: value for key, value in main_user[1] if value == 0}\n",
    "\n",
    "    # item 1 is in this format: (user_id, cosine similarity). \n",
    "    # item2 is in this format: [(tweet_id1, score1), (tweet_id2, score2), ..., (tweet_idn, scoren)]    \n",
    "    for item1, item2 in similar_users_and_their_tweets_list: # Iterate through the similar users.\n",
    "        another_user_tweet_ids = dict(item2)\n",
    "        common_tweet_ids = list(set(main_user_tweets_dict.keys()) & set(another_user_tweet_ids.keys())) \n",
    "        for tweet in main_user_tweets_dict:\n",
    "            if tweet in another_user_tweet_ids.keys():\n",
    "                estimated_tweet_ids_dict[tweet] += item1[1] * another_user_tweet_ids[tweet]\n",
    "            estimated_tweet_ids_weights_dict[tweet] += item1[1]\n",
    "    # Calculate the recommended score for each tweet whose value has been set to zero.\n",
    "    recommended_scores_dict = {key: estimated_tweet_ids_dict[key]/estimated_tweet_ids_weights_dict[key] for key in estimated_tweet_ids_dict}\n",
    "    \n",
    "\n",
    "    # Calculate root mean squeare error for recommended scores.\n",
    "    for user_id, tweets in test_users_matrix:\n",
    "        if user_id == main_user[0]:\n",
    "            main_tweets_with_real_scores = dict(tweets)\n",
    "            break\n",
    "    real_zeroed_tweet_values = {}\n",
    "    rmse = 0\n",
    "    recommended_scores_dict_keys = recommended_scores_dict.keys()\n",
    "    for key,value in main_user_tweets_dict.items():\n",
    "        real_zeroed_tweet_values[key] = main_tweets_with_real_scores[key]\n",
    "        rmse = rmse + (recommended_scores_dict[key]-main_tweets_with_real_scores[key])**2\n",
    "\n",
    "        \n",
    "    rmse = math.sqrt(rmse/len(main_user[1]))\n",
    "    for key, value in real_zeroed_tweet_values.items():\n",
    "        print(f\"Real value of the tweet id {key} is {value}\")\n",
    "        print(f\"Estimated scores for zeroed tweets with the id {key} is:{recommended_scores_dict[key]}\")\n",
    "    print(f\"rmse is {rmse}\")\n",
    "    print(\"###########################################################\")\n"
   ]
  }
 ],
 "metadata": {
  "kernelspec": {
   "display_name": "Python 3",
   "language": "python",
   "name": "python3"
  },
  "language_info": {
   "codemirror_mode": {
    "name": "ipython",
    "version": 3
   },
   "file_extension": ".py",
   "mimetype": "text/x-python",
   "name": "python",
   "nbconvert_exporter": "python",
   "pygments_lexer": "ipython3",
   "version": "3.10.12"
  }
 },
 "nbformat": 4,
 "nbformat_minor": 2
}
